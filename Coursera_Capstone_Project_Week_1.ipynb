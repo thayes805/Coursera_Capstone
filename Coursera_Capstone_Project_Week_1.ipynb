{
 "cells": [
  {
   "cell_type": "markdown",
   "id": "boxed-italy",
   "metadata": {},
   "source": [
    "# 1. Description of the Problem and Discussion of the Background\n",
    "\n",
    "## (Week 1)"
   ]
  },
  {
   "cell_type": "markdown",
   "id": "textile-breath",
   "metadata": {},
   "source": [
    "### Identifying the Best Breweries in Seattle, WA using Combined Rating Systems (Decision Matrix Analysis) and Word Cloud Visualizations "
   ]
  },
  {
   "cell_type": "markdown",
   "id": "religious-punishment",
   "metadata": {},
   "source": [
    "Seattle Washington is known for their Northwest-style ales generously hopped and bold in flavor. These are my favorite styles to drink. From what I've read, Seattle has amazing craft beer...and a lot of it! According to a recent report from SmartAsset titled 'Best Beer Cities for Drinkers - 2019 Edition', the total number of breweries in Seattle ranks fifth overall in the United States. With so many choices, here lies the problem: how does one decide which breweries to visit?  My goal is to use the information obtained from this notebook to find the best breweries in Seattle for my upcomming vacation to the area.  The findings of this study will be helpful for anyone living, working, or vacationing in the area who would like to enjoy a delicious and unique craft beer from one of the best breweries in Seattle.    \n"
   ]
  },
  {
   "cell_type": "markdown",
   "id": "upset-sterling",
   "metadata": {},
   "source": [
    "# 2. Description of the data and how it will be used to solve the problem\n",
    "\n",
    "## (Week 1)"
   ]
  },
  {
   "cell_type": "markdown",
   "id": "affected-nigeria",
   "metadata": {},
   "source": [
    "1. Retrieve Seattle neighborhoods and geographical coordinates from a CSV file or by web scraping from a website & transform      data into a pandas dataframe.\n",
    "2. Use Foursquare API to get the brewery venues, caterories, add venue id within a radius of 1000 meters.\n",
    "3. Clean the venue list to include only venues that are catigorized as a brewery only.\n",
    "4. Use folium to create a map of Seattle with breweries superimposed on top.\n",
    "5. Define a function to get details on venue likes, ratings, and tips for each venue id. These will be used to evaluate the        breweries.\n",
    "6. Merge additional CSV file containing beer and venue ratings from BeerAdvocate into main dataframe.\n",
    "7. Breweries are now ready to be rated by four factors: beer, place, like counts, and tip counts generated from our searches      and imported files. These factors will then be rescaled with a score between 0 to 10, weighted by relative importance, and      then added up for a final weighted score for each brewery. This method of scoring is known as a decision matrix analysis and    can help customers decide on the best breweries based on multiple factors.\n",
    "8. Finally, customer reviews and comments will be evaluated from the top five breweries determined from above, and visualized    using word clouds to help gain deeper insights into each breweries specialties, unique characteristics, and vibe.\n",
    "\n"
   ]
  },
  {
   "cell_type": "code",
   "execution_count": null,
   "id": "dirty-cooperative",
   "metadata": {},
   "outputs": [],
   "source": []
  }
 ],
 "metadata": {
  "kernelspec": {
   "display_name": "Python 3",
   "language": "python",
   "name": "python3"
  },
  "language_info": {
   "codemirror_mode": {
    "name": "ipython",
    "version": 3
   },
   "file_extension": ".py",
   "mimetype": "text/x-python",
   "name": "python",
   "nbconvert_exporter": "python",
   "pygments_lexer": "ipython3",
   "version": "3.7.9"
  }
 },
 "nbformat": 4,
 "nbformat_minor": 5
}
